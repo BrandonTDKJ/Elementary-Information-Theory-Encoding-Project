{
 "cells": [
  {
   "cell_type": "code",
   "execution_count": 1,
   "metadata": {},
   "outputs": [],
   "source": [
    "import numpy as np\n",
    "import math"
   ]
  },
  {
   "cell_type": "code",
   "execution_count": 2,
   "metadata": {},
   "outputs": [],
   "source": [
    "filename=\"A Game of Thrones.txt\"\n",
    "f = open(filename,'r',encoding='utf-8')\n",
    "li = []\n",
    "line = f.readline()\n",
    "while line:\n",
    "    li.append(line)\n",
    "    line = f.readline()\n",
    "f.close\n",
    "\n",
    "whole_page = \"\"\n",
    "for i in range(len(li)):\n",
    "    whole_page = whole_page+li[i] \n",
    "    \n",
    "from collections import Counter\n",
    "dictionary = Counter(whole_page)\n",
    "dictionary = dict(dictionary)\n",
    "#dictionary"
   ]
  },
  {
   "cell_type": "code",
   "execution_count": 3,
   "metadata": {},
   "outputs": [],
   "source": [
    "del dictionary['\\n']\n",
    "del dictionary['\\x0c']\n",
    "del dictionary['!']\n",
    "del dictionary[\"'\"]\n",
    "del dictionary[\"(\"]\n",
    "del dictionary[\")\"]\n",
    "del dictionary[\",\"]\n",
    "del dictionary[\"-\"]\n",
    "del dictionary['.']\n",
    "del dictionary['0']\n",
    "del dictionary['1']\n",
    "del dictionary[\"2\"];del dictionary[\"3\"];del dictionary[\"4\"];del dictionary[\"5\"]\n",
    "del dictionary[\"6\"];del dictionary[\"7\"];del dictionary[\"8\"];del dictionary[\"9\"]\n",
    "del dictionary[\":\"];del dictionary[\"?\"];del dictionary[\";\"];del dictionary[\"[\"];del dictionary[\"]\"]\n",
    "del dictionary[\"{\"];del dictionary[\"}\"];del dictionary['—']\n",
    "del dictionary[\"‘\"];del dictionary[\"’\"];del dictionary['“']\n",
    "del dictionary[\"”\"];del dictionary[\"…\"];del dictionary['○'];del dictionary['\\u3000']"
   ]
  },
  {
   "cell_type": "code",
   "execution_count": 4,
   "metadata": {},
   "outputs": [],
   "source": [
    "def dict2list(dic):\n",
    "    keys=dic.keys()\n",
    "    vals=dic.values()\n",
    "    L=[(key,val) for key,val in zip(keys,vals)]\n",
    "    return L\n",
    "chars_freqs = dict2list(dictionary)"
   ]
  },
  {
   "cell_type": "code",
   "execution_count": 5,
   "metadata": {},
   "outputs": [],
   "source": [
    "freq=[]\n",
    "Data=[]\n",
    "lab=[]\n",
    "Lab=[]\n",
    "All=0;\n",
    "for i in range(52):\n",
    "    All+=chars_freqs[i][1]\n",
    "for i in range(52):\n",
    "    lab+=[chars_freqs[i][0]]\n",
    "    freq+=[chars_freqs[i][1]/All]\n",
    "data=list(zip(lab,freq))    \n",
    "index=np.argsort(freq, 0)[:]\n",
    "for i in range(52):\n",
    "    Data+=[data[index[i]][1]]\n",
    "    Lab+=[lab[index[i]][0]]"
   ]
  },
  {
   "cell_type": "code",
   "execution_count": 6,
   "metadata": {},
   "outputs": [],
   "source": [
    "def Add(l):\n",
    "    add=0\n",
    "    for i in range (len(l)):\n",
    "        add+=l[i] \n",
    "    return add\n",
    "def dec2bin(x):\n",
    "    if x==0:\n",
    "        return [0,0,0,0,0,0,0,0,0,0,0,0,0,0,0,0,0,0,0,0,0,0,0,0,0,0,0,0,0,0,0,0,0,0,0,0,0,0,0,0,0,0,0,0,0,0,0,0,0,0,0,0,0,0,0,0,0,0,0,0,0,0,0,0]\n",
    "    else:\n",
    "        x-= int(x)\n",
    "        bins = []\n",
    "        while x:\n",
    "            x *= 2\n",
    "            bins.append(1 if x>=1. else 0)\n",
    "            x -= int(x)\n",
    "        return bins"
   ]
  },
  {
   "cell_type": "code",
   "execution_count": 7,
   "metadata": {},
   "outputs": [],
   "source": [
    "def get_cumulative(Data):\n",
    "    cumulative=[]\n",
    "    for i in range(len(Data)):\n",
    "        cumulative+=[Add(Data[0:i+1])]\n",
    "    return cumulative"
   ]
  },
  {
   "cell_type": "code",
   "execution_count": 8,
   "metadata": {},
   "outputs": [
    {
     "data": {
      "text/plain": [
       "[3.9027131661931375e-06,\n",
       " 8.325788087878694e-05,\n",
       " 0.00012098410815198726,\n",
       " 0.00033303152351514775,\n",
       " 0.00039352357759114137,\n",
       " 0.00039612538636860344,\n",
       " 0.0004936932155234319,\n",
       " 0.0004956445721065284,\n",
       " 0.0005294680862135356,\n",
       " 0.0005873583315120672,\n",
       " 0.0006075223495373984,\n",
       " 0.0006361422460894814,\n",
       " 0.0006361422460894814,\n",
       " 0.0006537044553373506,\n",
       " 0.0009132348808891941,\n",
       " 0.0009464079428018359,\n",
       " 0.001166911236691748,\n",
       " 0.001191628420077638,\n",
       " 0.0012742358487620594,\n",
       " 0.0012891962492324663,\n",
       " 0.0012996034843423148,\n",
       " 0.0013633477993901361,\n",
       " 0.0015845015454744138,\n",
       " 0.0018082571003361536,\n",
       " 0.0019513565830965687,\n",
       " 0.002584897020408588,\n",
       " 0.0031052587759010063,\n",
       " 0.003319908000041629,\n",
       " 0.003963855672463497,\n",
       " 0.005742191971858836,\n",
       " 0.009048440475818788,\n",
       " 0.009133649713280673,\n",
       " 0.012189474122409899,\n",
       " 0.014149937036227585,\n",
       " 0.016298380634216906,\n",
       " 0.0164362764994224,\n",
       " 0.017216819132661026,\n",
       " 0.018178837928127634,\n",
       " 0.01983163695401043,\n",
       " 0.020122389084891817,\n",
       " 0.03437704892441225,\n",
       " 0.042972774672952636,\n",
       " 0.04493518894335342,\n",
       " 0.050850401198913486,\n",
       " 0.05127449602963981,\n",
       " 0.053180971411325155,\n",
       " 0.055628623018722616,\n",
       " 0.0612660921872886,\n",
       " 0.06354657758073412,\n",
       " 0.06413978998199549,\n",
       " 0.10234214826147138,\n",
       " 0.18340475298427467]"
      ]
     },
     "execution_count": 8,
     "metadata": {},
     "output_type": "execute_result"
    }
   ],
   "source": [
    "Data"
   ]
  },
  {
   "cell_type": "code",
   "execution_count": 9,
   "metadata": {},
   "outputs": [
    {
     "name": "stdout",
     "output_type": "stream",
     "text": [
      "[3.9027131661931375e-06, 8.716059404498008e-05, 0.00020814470219696735, 0.0005411762257121151, 0.0009346998033032565, 0.00133082518967186, 0.0018245184051952918, 0.0023201629773018204, 0.002849631063515356, 0.0034369893950274236, 0.004044511744564822, 0.004680653990654303, 0.005316796236743785, 0.005970500692081136, 0.006883735572970329, 0.007830143515772166, 0.008997054752463913, 0.010188683172541551, 0.01146291902130361, 0.012752115270536076, 0.01405171875487839, 0.015415066554268527, 0.01699956809974294, 0.018807825200079092, 0.02075918178317566, 0.02334407880358425, 0.026449337579485255, 0.029769245579526885, 0.03373310125199038, 0.03947529322384922, 0.048523733699668004, 0.057657383412948675, 0.06984685753535858, 0.08399679457158615, 0.10029517520580306, 0.11673145170522545, 0.13394827083788646, 0.1521271087660141, 0.17195874572002454, 0.19208113480491634, 0.22645818372932858, 0.2694309584022812, 0.3143661473456346, 0.3652165485445481, 0.4164910445741879, 0.46967201598551306, 0.5253006390042356, 0.5865667311915242, 0.6501133087722584, 0.7142530987542539, 0.8165952470157253, 1.0]\n"
     ]
    }
   ],
   "source": [
    "cumulative=get_cumulative(Data)\n",
    "print(cumulative )"
   ]
  },
  {
   "cell_type": "code",
   "execution_count": 10,
   "metadata": {},
   "outputs": [],
   "source": [
    "def find_middle(l,da):\n",
    "    av=sum(da)/2\n",
    "    for i in range(len(l)):\n",
    "        l[i]=abs(l[i]-av)\n",
    "    return l.index(min(l))"
   ]
  },
  {
   "cell_type": "code",
   "execution_count": 11,
   "metadata": {},
   "outputs": [
    {
     "data": {
      "text/plain": [
       "46"
      ]
     },
     "execution_count": 11,
     "metadata": {},
     "output_type": "execute_result"
    }
   ],
   "source": [
    "find_middle(cumulative,Data)"
   ]
  },
  {
   "cell_type": "code",
   "execution_count": 12,
   "metadata": {},
   "outputs": [],
   "source": [
    "def finding_cut(Data,cut,all_data):\n",
    "    n=100\n",
    "    for s in range(len(all_data)):\n",
    "        if Data[0]==all_data[s]:\n",
    "            n=s\n",
    "    if n==100:\n",
    "        print('error')\n",
    "        \n",
    "    D=get_cumulative(Data)\n",
    "    if n==0:\n",
    "        cut+=[find_middle(D,Data)]\n",
    "    else:\n",
    "        #print('initial from: ',n,'part cut=',find_middle(D,Data),'add:',find_middle(D,Data)+n+1)\n",
    "        cut+=[find_middle(D,Data)+n+1]\n",
    "    #print(len(cut))\n",
    "    if len(cut)==1:\n",
    "        cut=finding_cut(all_data[0:cut[0]],cut,all_data)\n",
    "        if len(cut)==51:\n",
    "                    #print('return')\n",
    "                    return cut\n",
    "        #print('only happen once')\n",
    "    elif len(cut)<51:\n",
    "        for j in range(0,len(cut)-1):\n",
    "            check=sorted(cut)\n",
    "            if check[0]-0>1:\n",
    "                #print('cut:',cut)\n",
    "                #print('j:',j+1,j)\n",
    "                #print( 'check:',check[j+1],check[j])\n",
    "                #print('con1 reinput:',0,check[0])\n",
    "                cut=finding_cut(all_data[0:check[0]],cut,all_data)\n",
    "                if len(cut)==51:\n",
    "                    #print('return')\n",
    "                    return cut\n",
    "            elif 52-check[len(check)-1]>1:\n",
    "                #print('cut:',cut)\n",
    "                #print('j:',j+1,j)\n",
    "                #print( 'check:',check[j+1],check[j])\n",
    "                #print('con2 reinput:',check[len(check)-1],51)\n",
    "                cut=finding_cut(all_data[check[len(check)-1]:51],cut,all_data)\n",
    "                if len(cut)==51:\n",
    "                    #print('return')\n",
    "                    return cut\n",
    "            if check[j+1]-check[j]>1:\n",
    "                #print('cut:',cut)\n",
    "                #print('j:',j+1,j)\n",
    "                #print( 'check:',check[j+1],check[j])\n",
    "                #print('con3 reinput:',check[j],check[j+1])\n",
    "                cut=finding_cut(all_data[check[j]:check[j+1]],cut,all_data)\n",
    "                if len(cut)==51:\n",
    "                    #print('return')\n",
    "                    return cut\n",
    "    elif len(cut)==51:\n",
    "        print('return')\n",
    "        return cut"
   ]
  },
  {
   "cell_type": "code",
   "execution_count": 13,
   "metadata": {},
   "outputs": [
    {
     "name": "stdout",
     "output_type": "stream",
     "text": [
      "return\n"
     ]
    }
   ],
   "source": [
    "cut=[]\n",
    "cuts=finding_cut(Data,cut,Data)"
   ]
  },
  {
   "cell_type": "code",
   "execution_count": 14,
   "metadata": {},
   "outputs": [],
   "source": [
    "def find_the_cloest(i,cut):\n",
    "    small=0;\n",
    "    big=52;\n",
    "    if i==0:\n",
    "        return small, big\n",
    "    else :\n",
    "        for j in range(i):\n",
    "            if cut[j]<cut[i] and cut[j]>=small:\n",
    "                small=cut[j]\n",
    "            if cut[j]>cut[i] and cut[j]<=big:\n",
    "                big=cut[j]\n",
    "    return small, big\n",
    "             "
   ]
  },
  {
   "cell_type": "code",
   "execution_count": 15,
   "metadata": {},
   "outputs": [],
   "source": [
    "def code_generator(code,cut):\n",
    "    for i in range (len(cut)):\n",
    "        s,b = find_the_cloest(i,cut)\n",
    "        for j in range(s,cut[i]):\n",
    "            code[j]+=[0]\n",
    "        for k in range(cut[i],b):\n",
    "            code[k]+=[1]\n",
    "    return code"
   ]
  },
  {
   "cell_type": "code",
   "execution_count": 16,
   "metadata": {},
   "outputs": [],
   "source": [
    "code=[[] for x in range(52)]"
   ]
  },
  {
   "cell_type": "code",
   "execution_count": 17,
   "metadata": {},
   "outputs": [],
   "source": [
    "codes=code_generator(code,cuts)"
   ]
  },
  {
   "cell_type": "code",
   "execution_count": 18,
   "metadata": {},
   "outputs": [
    {
     "name": "stdout",
     "output_type": "stream",
     "text": [
      "X ‘s code is: [0, 0, 0, 0, 0, 0, 0, 0, 0, 0]\n",
      "----------------------\n",
      "Q ‘s code is: [0, 0, 0, 0, 0, 0, 0, 0, 0, 1, 0]\n",
      "----------------------\n",
      "U ‘s code is: [0, 0, 0, 0, 0, 0, 0, 0, 0, 1, 1]\n",
      "----------------------\n",
      "V ‘s code is: [0, 0, 0, 0, 0, 0, 0, 0, 1, 0]\n",
      "----------------------\n",
      "x ‘s code is: [0, 0, 0, 0, 0, 0, 0, 0, 1, 1]\n",
      "----------------------\n",
      "z ‘s code is: [0, 0, 0, 0, 0, 0, 0, 1, 0, 0]\n",
      "----------------------\n",
      "P ‘s code is: [0, 0, 0, 0, 0, 0, 0, 1, 0, 1]\n",
      "----------------------\n",
      "j ‘s code is: [0, 0, 0, 0, 0, 0, 0, 1, 1, 0]\n",
      "----------------------\n",
      "F ‘s code is: [0, 0, 0, 0, 0, 0, 0, 1, 1, 1]\n",
      "----------------------\n",
      "K ‘s code is: [0, 0, 0, 0, 0, 0, 1, 0, 0, 0]\n",
      "----------------------\n",
      "O ‘s code is: [0, 0, 0, 0, 0, 0, 1, 0, 0, 1]\n",
      "----------------------\n",
      "q ‘s code is: [0, 0, 0, 0, 0, 0, 1, 0, 1]\n",
      "----------------------\n",
      "E ‘s code is: [0, 0, 0, 0, 0, 0, 1, 1, 0, 0]\n",
      "----------------------\n",
      "G ‘s code is: [0, 0, 0, 0, 0, 0, 1, 1, 0, 1]\n",
      "----------------------\n",
      "Y ‘s code is: [0, 0, 0, 0, 0, 0, 1, 1, 1]\n",
      "----------------------\n",
      "C ‘s code is: [0, 0, 0, 0, 0, 1, 0, 0, 0]\n",
      "----------------------\n",
      "D ‘s code is: [0, 0, 0, 0, 0, 1, 0, 0, 1]\n",
      "----------------------\n",
      "J ‘s code is: [0, 0, 0, 0, 0, 1, 0, 1, 0]\n",
      "----------------------\n",
      "M ‘s code is: [0, 0, 0, 0, 0, 1, 0, 1, 1]\n",
      "----------------------\n",
      "N ‘s code is: [0, 0, 0, 0, 0, 1, 1, 0, 0]\n",
      "----------------------\n",
      "B ‘s code is: [0, 0, 0, 0, 0, 1, 1, 0, 1]\n",
      "----------------------\n",
      "R ‘s code is: [0, 0, 0, 0, 0, 1, 1, 1]\n",
      "----------------------\n",
      "W ‘s code is: [0, 0, 0, 0, 1, 0, 0, 0]\n",
      "----------------------\n",
      "L ‘s code is: [0, 0, 0, 0, 1, 0, 0, 1]\n",
      "----------------------\n",
      "A ‘s code is: [0, 0, 0, 0, 1, 0, 1, 0]\n",
      "----------------------\n",
      "H ‘s code is: [0, 0, 0, 0, 1, 0, 1, 1]\n",
      "----------------------\n",
      "S ‘s code is: [0, 0, 0, 0, 1, 1, 0, 0]\n",
      "----------------------\n",
      "I ‘s code is: [0, 0, 0, 0, 1, 1, 0, 1]\n",
      "----------------------\n",
      "T ‘s code is: [0, 0, 0, 0, 1, 1, 1]\n",
      "----------------------\n",
      "v ‘s code is: [0, 0, 0, 1, 0, 0, 0]\n",
      "----------------------\n",
      "p ‘s code is: [0, 0, 0, 1, 0, 0, 1]\n",
      "----------------------\n",
      "k ‘s code is: [0, 0, 0, 1, 0, 1]\n",
      "----------------------\n",
      "b ‘s code is: [0, 0, 0, 1, 1, 0]\n",
      "----------------------\n",
      "c ‘s code is: [0, 0, 0, 1, 1, 1]\n",
      "----------------------\n",
      "f ‘s code is: [0, 0, 1, 0, 0, 0]\n",
      "----------------------\n",
      "y ‘s code is: [0, 0, 1, 0, 0, 1]\n",
      "----------------------\n",
      "g ‘s code is: [0, 0, 1, 0, 1]\n",
      "----------------------\n",
      "m ‘s code is: [0, 0, 1, 1, 0, 0]\n",
      "----------------------\n",
      "u ‘s code is: [0, 0, 1, 1, 0, 1]\n",
      "----------------------\n",
      "w ‘s code is: [0, 0, 1, 1, 1]\n",
      "----------------------\n",
      "l ‘s code is: [0, 1, 0, 0, 0]\n",
      "----------------------\n",
      "d ‘s code is: [0, 1, 0, 0, 1]\n",
      "----------------------\n",
      "i ‘s code is: [0, 1, 0, 1]\n",
      "----------------------\n",
      "s ‘s code is: [0, 1, 1, 0, 0]\n",
      "----------------------\n",
      "r ‘s code is: [0, 1, 1, 0, 1]\n",
      "----------------------\n",
      "n ‘s code is: [0, 1, 1, 1]\n",
      "----------------------\n",
      "h ‘s code is: [1, 0, 0, 0]\n",
      "----------------------\n",
      "o ‘s code is: [1, 0, 0, 1]\n",
      "----------------------\n",
      "a ‘s code is: [1, 0, 1]\n",
      "----------------------\n",
      "t ‘s code is: [1, 1, 0]\n",
      "----------------------\n",
      "e ‘s code is: [1, 1, 1, 0]\n",
      "----------------------\n",
      "  ‘s code is: [1, 1, 1, 1]\n",
      "----------------------\n"
     ]
    }
   ],
   "source": [
    "for i in range(52):\n",
    "    print(Lab[i],'‘s code is:',codes[i])\n",
    "    print('----------------------')"
   ]
  },
  {
   "cell_type": "code",
   "execution_count": 19,
   "metadata": {},
   "outputs": [],
   "source": [
    "def encodeing(filename,Lab,code):\n",
    "    f = open(filename,'r',encoding='utf-8')\n",
    "    li = []\n",
    "    line = f.readline()\n",
    "    while line:\n",
    "        li.append(line)\n",
    "        line = f.readline()\n",
    "    f.close\n",
    "    Final_code=''\n",
    "    for j in range(len(li)):\n",
    "        for i in range (len(li[j])):\n",
    "            for k in range(len(Lab)):\n",
    "                if Lab[k]==li[j][i]:\n",
    "                    for n in range(len(code[k])):\n",
    "                        Final_code+=str(code[k][n])\n",
    "    return Final_code"
   ]
  },
  {
   "cell_type": "code",
   "execution_count": 20,
   "metadata": {},
   "outputs": [],
   "source": [
    "filename=\"A Game of Thrones.txt\"\n",
    "mycode=encodeing(filename,Lab,codes)"
   ]
  },
  {
   "cell_type": "code",
   "execution_count": 21,
   "metadata": {},
   "outputs": [],
   "source": [
    "def decoder(mycode,labs,Codes):\n",
    "    decode=''\n",
    "    code=['' for x in range(52)]\n",
    "    maxc=0;\n",
    "    for i in range (len(Codes)):\n",
    "        for j in range (len(Codes[i])):\n",
    "            code[i]+=str(Codes[i][j])\n",
    "        if maxc<=len(code[i]):\n",
    "            maxc=len(code[i])\n",
    "    print(code)\n",
    "    ini=0\n",
    "    for i in range (len(mycode)):\n",
    "        #print(ini,i,maxc)\n",
    "        if ini<=i:\n",
    "            for j in range (len(code)):\n",
    "                if i-ini>maxc:\n",
    "                        print('error')\n",
    "                if code[j]==mycode[ini:i]:\n",
    "                    #print(labs[j],':', mycode[ini:i],':',code[j],':',ini,i)\n",
    "                    decode+=labs[j]\n",
    "                    ini=i \n",
    "    return decode"
   ]
  },
  {
   "cell_type": "code",
   "execution_count": 22,
   "metadata": {},
   "outputs": [
    {
     "name": "stdout",
     "output_type": "stream",
     "text": [
      "['0000000000', '00000000010', '00000000011', '0000000010', '0000000011', '0000000100', '0000000101', '0000000110', '0000000111', '0000001000', '0000001001', '000000101', '0000001100', '0000001101', '000000111', '000001000', '000001001', '000001010', '000001011', '000001100', '000001101', '00000111', '00001000', '00001001', '00001010', '00001011', '00001100', '00001101', '0000111', '0001000', '0001001', '000101', '000110', '000111', '001000', '001001', '00101', '001100', '001101', '00111', '01000', '01001', '0101', '01100', '01101', '0111', '1000', '1001', '101', '110', '1110', '1111']\n"
     ]
    }
   ],
   "source": [
    "out=decoder(mycode,Lab,codes)"
   ]
  },
  {
   "cell_type": "code",
   "execution_count": 23,
   "metadata": {},
   "outputs": [
    {
     "name": "stdout",
     "output_type": "stream",
     "text": [
      "0000000101000001110000001001000010010000001001000000110100000000011000000110000001000111011110110010001001001101010000100111110110011010101101110111100011010100011100010111110000001101101011011110010011111001101011010010111100100111111010110011111101000111011110011110011001010010110011110001101110001011010111111111010011111001010110110010011111110100110101101000101111110101101100100110101110100111111101000111000110000001111000111011110011101010100001001010000101011100101011001111101011011110111101001111010101001000001001100111111101000111011110100111101010100111110010000110101010010110001101110011111110010011001001101111100001100111001101111100001000101001001001100101011011111000001111001001001000111111011111010110000010111100100111110011101011101000111100000001100011010110011011111101000111011111000010101111101111100100100011111011111011000011000101010001110000000110110101101111001001111101001010101001111101111001110111101101010101100111011111101001111111010001110111100011010101011101\n"
     ]
    }
   ],
   "source": [
    "print(mycode[0:1000])"
   ]
  },
  {
   "cell_type": "code",
   "execution_count": 24,
   "metadata": {},
   "outputs": [
    {
     "name": "stdout",
     "output_type": "stream",
     "text": [
      "PROLOGUEWe should start back Gared urged as the woods began to grow dark around themThe wildlings are deadDo the dead frighten you Ser Waymar Royce asked with just the hint of a smileGared did not rise to the bait He was an old man past fifty and he had seen the lordlings come andgo Dead is dead he said We have no business with the deadAre they dead Royce asked softly What proof have weWill saw them Gared said If he says they are dead thats proof enough for meWill had known they would drag him into the quarrel sooner or later He wished it had been laterrather than sooner My mother told me that dead men sing no songs he put inMy wet nurse said the same thing Will Royce replied Never believe anything you hear at awomans tit There are things to be learned even from the dead His voice echoed too loud in thetwilit forestWe have a long ride before us Gared pointed out Eight days maybe nine And night isfallingSer Waymar Royce glanced at the sky with disinterest It does that every day about th\n"
     ]
    }
   ],
   "source": [
    "print(out[0:1000])"
   ]
  },
  {
   "cell_type": "code",
   "execution_count": 20,
   "metadata": {},
   "outputs": [],
   "source": [
    "codes\n",
    "Len=[10,11,11,10,10,10,10,10,10,10,10,9,10,10,9,9,9,9,9,9,9,8,8,8,8,8,8,8,7,7,7,6,6,6,6,6,5,6,6,5,5,5,4,5,5,4,4,4,3,3,4,4]"
   ]
  },
  {
   "cell_type": "code",
   "execution_count": 27,
   "metadata": {},
   "outputs": [],
   "source": [
    "k=0\n",
    "for i in range(51):\n",
    "    k=k+Data[i]*Len[i]\n",
    "\n"
   ]
  },
  {
   "cell_type": "code",
   "execution_count": 25,
   "metadata": {},
   "outputs": [
    {
     "data": {
      "text/plain": [
       "52"
      ]
     },
     "execution_count": 25,
     "metadata": {},
     "output_type": "execute_result"
    }
   ],
   "source": [
    "np.size(Len)"
   ]
  },
  {
   "cell_type": "code",
   "execution_count": 28,
   "metadata": {},
   "outputs": [
    {
     "data": {
      "text/plain": [
       "3.7628757011874656"
      ]
     },
     "execution_count": 28,
     "metadata": {},
     "output_type": "execute_result"
    }
   ],
   "source": [
    "k"
   ]
  },
  {
   "cell_type": "code",
   "execution_count": 29,
   "metadata": {},
   "outputs": [
    {
     "data": {
      "text/plain": [
       "[3.9027131661931375e-06,\n",
       " 8.325788087878694e-05,\n",
       " 0.00012098410815198726,\n",
       " 0.00033303152351514775,\n",
       " 0.00039352357759114137,\n",
       " 0.00039612538636860344,\n",
       " 0.0004936932155234319,\n",
       " 0.0004956445721065284,\n",
       " 0.0005294680862135356,\n",
       " 0.0005873583315120672,\n",
       " 0.0006075223495373984,\n",
       " 0.0006361422460894814,\n",
       " 0.0006361422460894814,\n",
       " 0.0006537044553373506,\n",
       " 0.0009132348808891941,\n",
       " 0.0009464079428018359,\n",
       " 0.001166911236691748,\n",
       " 0.001191628420077638,\n",
       " 0.0012742358487620594,\n",
       " 0.0012891962492324663,\n",
       " 0.0012996034843423148,\n",
       " 0.0013633477993901361,\n",
       " 0.0015845015454744138,\n",
       " 0.0018082571003361536,\n",
       " 0.0019513565830965687,\n",
       " 0.002584897020408588,\n",
       " 0.0031052587759010063,\n",
       " 0.003319908000041629,\n",
       " 0.003963855672463497,\n",
       " 0.005742191971858836,\n",
       " 0.009048440475818788,\n",
       " 0.009133649713280673,\n",
       " 0.012189474122409899,\n",
       " 0.014149937036227585,\n",
       " 0.016298380634216906,\n",
       " 0.0164362764994224,\n",
       " 0.017216819132661026,\n",
       " 0.018178837928127634,\n",
       " 0.01983163695401043,\n",
       " 0.020122389084891817,\n",
       " 0.03437704892441225,\n",
       " 0.042972774672952636,\n",
       " 0.04493518894335342,\n",
       " 0.050850401198913486,\n",
       " 0.05127449602963981,\n",
       " 0.053180971411325155,\n",
       " 0.055628623018722616,\n",
       " 0.0612660921872886,\n",
       " 0.06354657758073412,\n",
       " 0.06413978998199549,\n",
       " 0.10234214826147138,\n",
       " 0.18340475298427467]"
      ]
     },
     "execution_count": 29,
     "metadata": {},
     "output_type": "execute_result"
    }
   ],
   "source": [
    "Data\n"
   ]
  },
  {
   "cell_type": "code",
   "execution_count": null,
   "metadata": {},
   "outputs": [],
   "source": []
  }
 ],
 "metadata": {
  "kernelspec": {
   "display_name": "Musk_envs",
   "language": "python",
   "name": "musk_envs"
  },
  "language_info": {
   "codemirror_mode": {
    "name": "ipython",
    "version": 3
   },
   "file_extension": ".py",
   "mimetype": "text/x-python",
   "name": "python",
   "nbconvert_exporter": "python",
   "pygments_lexer": "ipython3",
   "version": "3.6.7"
  }
 },
 "nbformat": 4,
 "nbformat_minor": 2
}
