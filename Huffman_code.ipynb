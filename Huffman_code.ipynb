{
 "cells": [
  {
   "cell_type": "code",
   "execution_count": 2,
   "metadata": {},
   "outputs": [
    {
     "data": {
      "text/plain": [
       "<function TextIOWrapper.close()>"
      ]
     },
     "execution_count": 2,
     "metadata": {},
     "output_type": "execute_result"
    }
   ],
   "source": [
    "filename=\"A Game of Thrones.txt\"\n",
    "f = open(filename,'r',encoding='utf-8')\n",
    "li = []\n",
    "line = f.readline()\n",
    "while line:\n",
    "    li.append(line)\n",
    "    line = f.readline()\n",
    "f.close"
   ]
  },
  {
   "cell_type": "code",
   "execution_count": 5,
   "metadata": {},
   "outputs": [],
   "source": [
    "whole_page = \"\"\n",
    "for i in range(len(li)):\n",
    "    whole_page = whole_page+li[i] "
   ]
  },
  {
   "cell_type": "code",
   "execution_count": 7,
   "metadata": {},
   "outputs": [],
   "source": [
    "from collections import Counter\n",
    "dictionary = Counter(whole_page)\n",
    "dictionary = dict(dictionary)\n",
    "#dictionary"
   ]
  },
  {
   "cell_type": "code",
   "execution_count": 9,
   "metadata": {},
   "outputs": [],
   "source": [
    "del dictionary['\\n']\n",
    "del dictionary['\\x0c']\n",
    "del dictionary['!']\n",
    "del dictionary[\"'\"]\n",
    "del dictionary[\"(\"]\n",
    "del dictionary[\")\"]\n",
    "del dictionary[\",\"]\n",
    "del dictionary[\"-\"]\n",
    "del dictionary['.']\n",
    "del dictionary['0']\n",
    "del dictionary['1']\n",
    "del dictionary[\"2\"];del dictionary[\"3\"];del dictionary[\"4\"];del dictionary[\"5\"]\n",
    "del dictionary[\"6\"];del dictionary[\"7\"];del dictionary[\"8\"];del dictionary[\"9\"]\n",
    "del dictionary[\":\"];del dictionary[\"?\"];del dictionary[\";\"];del dictionary[\"[\"];del dictionary[\"]\"]\n",
    "del dictionary[\"{\"];del dictionary[\"}\"];del dictionary['—']\n",
    "del dictionary[\"‘\"];del dictionary[\"’\"];del dictionary['“']\n",
    "del dictionary[\"”\"];del dictionary[\"…\"];del dictionary['○'];del dictionary['\\u3000']"
   ]
  },
  {
   "cell_type": "code",
   "execution_count": 10,
   "metadata": {},
   "outputs": [],
   "source": [
    "def dict2list(dic):\n",
    "    keys=dic.keys()\n",
    "    vals=dic.values()\n",
    "    L=[(key,val) for key,val in zip(keys,vals)]\n",
    "    return L\n",
    "\n",
    "chars_freqs = dict2list(dictionary)"
   ]
  },
  {
   "cell_type": "code",
   "execution_count": 11,
   "metadata": {},
   "outputs": [],
   "source": [
    "#Huffman Encoding\n",
    "\n",
    "#Tree-Node Type\n",
    "class Node:\n",
    "    def __init__(self,freq):\n",
    "        self.left = None\n",
    "        self.right = None\n",
    "        self.father = None\n",
    "        self.freq = freq\n",
    "    def isLeft(self):\n",
    "        return self.father.left == self\n",
    "#create nodes创建叶子节点\n",
    "def createNodes(freqs):\n",
    "    return [Node(freq) for freq in freqs]\n",
    "\n",
    "#create Huffman-Tree创建Huffman树\n",
    "def createHuffmanTree(nodes):\n",
    "    queue = nodes[:]\n",
    "    while len(queue) > 1:\n",
    "        queue.sort(key=lambda item:item.freq)\n",
    "        node_left = queue.pop(0)\n",
    "        node_right = queue.pop(0)\n",
    "        node_father = Node(node_left.freq + node_right.freq)\n",
    "        node_father.left = node_left\n",
    "        node_father.right = node_right\n",
    "        node_left.father = node_father\n",
    "        node_right.father = node_father\n",
    "        queue.append(node_father)\n",
    "    queue[0].father = None\n",
    "    return queue[0]\n",
    "#Huffman编码\n",
    "def huffmanEncoding(nodes,root):\n",
    "    codes = [''] * len(nodes)\n",
    "    for i in range(len(nodes)):\n",
    "        node_tmp = nodes[i]\n",
    "        while node_tmp != root:\n",
    "            if node_tmp.isLeft():\n",
    "                codes[i] = '0' + codes[i]\n",
    "            else:\n",
    "                codes[i] = '1' + codes[i]\n",
    "            node_tmp = node_tmp.father\n",
    "    return codes\n"
   ]
  },
  {
   "cell_type": "code",
   "execution_count": 12,
   "metadata": {},
   "outputs": [
    {
     "name": "stdout",
     "output_type": "stream",
     "text": [
      "Character:P freq:759   encoding: 10111010100\n",
      "Character:R freq:2096   encoding: 000100101\n",
      "Character:O freq:934   encoding: 10111011101\n",
      "Character:L freq:2780   encoding: 101110000\n",
      "Character:G freq:1005   encoding: 0001001100\n",
      "Character:U freq:186   encoding: 1011101011101\n",
      "Character:E freq:978   encoding: 10111011110\n",
      "Character:W freq:2436   encoding: 000100111\n",
      "Character:e freq:157340   encoding: 010\n",
      "Character:  freq:281965   encoding: 111\n",
      "Character:s freq:78177   encoding: 0010\n",
      "Character:h freq:85523   encoding: 0111\n",
      "Character:o freq:94190   encoding: 1000\n",
      "Character:u freq:30489   encoding: 110100\n",
      "Character:l freq:52851   encoding: 11000\n",
      "Character:d freq:66066   encoding: 11011\n",
      "Character:t freq:98608   encoding: 1010\n",
      "Character:a freq:97696   encoding: 1001\n",
      "Character:r freq:78829   encoding: 0011\n",
      "Character:b freq:18740   encoding: 000110\n",
      "Character:c freq:21754   encoding: 000111\n",
      "Character:k freq:14042   encoding: 1100111\n",
      "Character:g freq:26469   encoding: 101111\n",
      "Character:w freq:30936   encoding: 110101\n",
      "Character:n freq:81760   encoding: 0110\n",
      "Character:m freq:27948   encoding: 110010\n",
      "Character:T freq:6094   encoding: 10111001\n",
      "Character:i freq:69083   encoding: 0000\n",
      "Character:D freq:1794   encoding: 1011101100\n",
      "Character:f freq:25057   encoding: 101100\n",
      "Character:y freq:25269   encoding: 101101\n",
      "Character:S freq:4774   encoding: 00010110\n",
      "Character:j freq:762   encoding: 10111010101\n",
      "Character:H freq:3974   encoding: 00010001\n",
      "Character:p freq:13911   encoding: 1100110\n",
      "Character:v freq:8828   encoding: 0001010\n",
      "Character:A freq:3000   encoding: 101110100\n",
      "Character:I freq:5104   encoding: 00010111\n",
      "Character:q freq:978   encoding: 10111011111\n",
      "Character:M freq:1959   encoding: 000100000\n",
      "Character:N freq:1982   encoding: 000100001\n",
      "Character:Y freq:1404   encoding: 1011100010\n",
      "Character:B freq:1998   encoding: 000100100\n",
      "Character:x freq:605   encoding: 00010011010\n",
      "Character:F freq:814   encoding: 10111010110\n",
      "Character:z freq:609   encoding: 00010011011\n",
      "Character:C freq:1455   encoding: 1011100011\n",
      "Character:J freq:1832   encoding: 1011101101\n",
      "Character:K freq:903   encoding: 10111011100\n",
      "Character:V freq:512   encoding: 101110101111\n",
      "Character:Q freq:128   encoding: 10111010111001\n",
      "Character:X freq:6    encoding: 10111010111000\n"
     ]
    }
   ],
   "source": [
    "if __name__ == '__main__':\n",
    "    chars_freqs = chars_freqs\n",
    "    nodes = createNodes([item[1] for item in chars_freqs])\n",
    "    root = createHuffmanTree(nodes)\n",
    "    codes = huffmanEncoding(nodes,root)\n",
    "    for item in zip(chars_freqs,codes):\n",
    "        print('Character:%s freq:%-2d   encoding: %s' % (item[0][0],item[0][1],item[1]))"
   ]
  },
  {
   "cell_type": "code",
   "execution_count": null,
   "metadata": {},
   "outputs": [],
   "source": []
  }
 ],
 "metadata": {
  "kernelspec": {
   "display_name": "Musk_envs",
   "language": "python",
   "name": "musk_envs"
  },
  "language_info": {
   "codemirror_mode": {
    "name": "ipython",
    "version": 3
   },
   "file_extension": ".py",
   "mimetype": "text/x-python",
   "name": "python",
   "nbconvert_exporter": "python",
   "pygments_lexer": "ipython3",
   "version": "3.6.7"
  }
 },
 "nbformat": 4,
 "nbformat_minor": 2
}
