{
 "cells": [
  {
   "cell_type": "code",
   "execution_count": 1,
   "metadata": {},
   "outputs": [],
   "source": [
    "import numpy as np\n",
    "import math\n",
    "D=2"
   ]
  },
  {
   "cell_type": "code",
   "execution_count": 2,
   "metadata": {},
   "outputs": [
    {
     "data": {
      "text/plain": [
       "<function TextIOWrapper.close()>"
      ]
     },
     "execution_count": 2,
     "metadata": {},
     "output_type": "execute_result"
    }
   ],
   "source": [
    "filename=\"A Game of Thrones.txt\"\n",
    "f = open(filename,'r',encoding='utf-8')\n",
    "li = []\n",
    "line = f.readline()\n",
    "while line:\n",
    "    li.append(line)\n",
    "    line = f.readline()\n",
    "f.close"
   ]
  },
  {
   "cell_type": "code",
   "execution_count": 3,
   "metadata": {},
   "outputs": [],
   "source": [
    "whole_page = \"\"\n",
    "for i in range(len(li)):\n",
    "    whole_page = whole_page+li[i] "
   ]
  },
  {
   "cell_type": "code",
   "execution_count": 4,
   "metadata": {},
   "outputs": [],
   "source": [
    "from collections import Counter\n",
    "dictionary = Counter(whole_page)\n",
    "dictionary = dict(dictionary)\n",
    "#dictionary"
   ]
  },
  {
   "cell_type": "code",
   "execution_count": 5,
   "metadata": {},
   "outputs": [],
   "source": [
    "del dictionary['\\n']\n",
    "del dictionary['\\x0c']\n",
    "del dictionary['!']\n",
    "del dictionary[\"'\"]\n",
    "del dictionary[\"(\"]\n",
    "del dictionary[\")\"]\n",
    "del dictionary[\",\"]\n",
    "del dictionary[\"-\"]\n",
    "del dictionary['.']\n",
    "del dictionary['0']\n",
    "del dictionary['1']\n",
    "del dictionary[\"2\"];del dictionary[\"3\"];del dictionary[\"4\"];del dictionary[\"5\"]\n",
    "del dictionary[\"6\"];del dictionary[\"7\"];del dictionary[\"8\"];del dictionary[\"9\"]\n",
    "del dictionary[\":\"];del dictionary[\"?\"];del dictionary[\";\"];del dictionary[\"[\"];del dictionary[\"]\"]\n",
    "del dictionary[\"{\"];del dictionary[\"}\"];del dictionary['—']\n",
    "del dictionary[\"‘\"];del dictionary[\"’\"];del dictionary['“']\n",
    "del dictionary[\"”\"];del dictionary[\"…\"];del dictionary['○'];del dictionary['\\u3000']"
   ]
  },
  {
   "cell_type": "code",
   "execution_count": 6,
   "metadata": {},
   "outputs": [],
   "source": [
    "def dict2list(dic):\n",
    "    keys=dic.keys()\n",
    "    vals=dic.values()\n",
    "    L=[(key,val) for key,val in zip(keys,vals)]\n",
    "    return L\n",
    "chars_freqs = dict2list(dictionary)"
   ]
  },
  {
   "cell_type": "code",
   "execution_count": 7,
   "metadata": {},
   "outputs": [],
   "source": [
    "freq=[]\n",
    "Data=[]\n",
    "lab=[]\n",
    "Lab=[]\n",
    "All=0;\n",
    "for i in range(52):\n",
    "    All+=chars_freqs[i][1]\n",
    "for i in range(52):\n",
    "    lab+=[chars_freqs[i][0]]\n",
    "    freq+=[chars_freqs[i][1]/All]\n",
    "data=list(zip(lab,freq))    \n",
    "index=np.argsort(freq, 0)[:]\n",
    "for i in range(52):\n",
    "    Data+=[data[index[51-i]][1]]\n",
    "    Lab+=[lab[index[51-i]][0]]\n",
    "    #print(Data[i],Lab[i])"
   ]
  },
  {
   "cell_type": "code",
   "execution_count": 8,
   "metadata": {},
   "outputs": [],
   "source": [
    "def Add(l):\n",
    "    add=0\n",
    "    for i in range (len(l)):\n",
    "        add+=l[i] \n",
    "    return add\n",
    "def dec2bin(x):\n",
    "    if x==0:\n",
    "        return [0,0,0,0,0,0,0,0,0,0,0,0,0,0,0,0,0,0,0,0,0,0,0,0,0,0,0,0,0,0,0,0,0,0,0,0,0,0,0,0,0,0,0,0,0,0,0,0,0,0,0,0,0,0,0,0,0,0,0,0,0,0,0,0]\n",
    "    else:\n",
    "        x-= int(x)\n",
    "        bins = []\n",
    "        while x:\n",
    "            x *= 2\n",
    "            bins.append(1 if x>=1. else 0)\n",
    "            x -= int(x)\n",
    "        return bins"
   ]
  },
  {
   "cell_type": "code",
   "execution_count": 9,
   "metadata": {},
   "outputs": [
    {
     "name": "stdout",
     "output_type": "stream",
     "text": [
      "  ‘s code is: [0, 0, 0] : 3 0\n",
      "----------------------\n",
      "e ‘s code is: [0, 0, 1, 0] : 4 0.18340475298427467\n",
      "----------------------\n",
      "t ‘s code is: [0, 1, 0, 0] : 4 0.28574690124574603\n",
      "----------------------\n",
      "a ‘s code is: [0, 1, 0, 1] : 4 0.3498866912277415\n",
      "----------------------\n",
      "o ‘s code is: [0, 1, 1, 0, 1] : 5 0.41343326880847564\n",
      "----------------------\n",
      "h ‘s code is: [0, 1, 1, 1, 1] : 5 0.47469936099576426\n",
      "----------------------\n",
      "n ‘s code is: [1, 0, 0, 0, 0] : 5 0.5303279840144869\n",
      "----------------------\n",
      "r ‘s code is: [1, 0, 0, 1, 0] : 5 0.583508955425812\n",
      "----------------------\n",
      "s ‘s code is: [1, 0, 1, 0, 0] : 5 0.6347834514554519\n",
      "----------------------\n",
      "i ‘s code is: [1, 0, 1, 0, 1] : 5 0.6856338526543654\n",
      "----------------------\n",
      "d ‘s code is: [1, 0, 1, 1, 1] : 5 0.7305690415977188\n",
      "----------------------\n",
      "l ‘s code is: [1, 1, 0, 0, 0] : 5 0.7735418162706715\n",
      "----------------------\n",
      "w ‘s code is: [1, 1, 0, 0, 1, 1] : 6 0.8079188651950838\n",
      "----------------------\n",
      "u ‘s code is: [1, 1, 0, 1, 0, 0] : 6 0.8280412542799757\n",
      "----------------------\n",
      "m ‘s code is: [1, 1, 0, 1, 1, 0] : 6 0.8478728912339861\n",
      "----------------------\n",
      "g ‘s code is: [1, 1, 0, 1, 1, 1] : 6 0.8660517291621137\n",
      "----------------------\n",
      "y ‘s code is: [1, 1, 1, 0, 0, 0] : 6 0.8832685482947747\n",
      "----------------------\n",
      "f ‘s code is: [1, 1, 1, 0, 0, 1] : 6 0.8997048247941971\n",
      "----------------------\n",
      "c ‘s code is: [1, 1, 1, 0, 1, 0, 1] : 7 0.9160032054284141\n",
      "----------------------\n",
      "b ‘s code is: [1, 1, 1, 0, 1, 1, 1] : 7 0.9301531424646416\n",
      "----------------------\n",
      "k ‘s code is: [1, 1, 1, 1, 0, 0, 0] : 7 0.9423426165870515\n",
      "----------------------\n",
      "p ‘s code is: [1, 1, 1, 1, 0, 0, 1] : 7 0.9514762663003322\n",
      "----------------------\n",
      "v ‘s code is: [1, 1, 1, 1, 0, 1, 0, 1] : 8 0.960524706776151\n",
      "----------------------\n",
      "T ‘s code is: [1, 1, 1, 1, 0, 1, 1, 1] : 8 0.9662668987480099\n",
      "----------------------\n",
      "I ‘s code is: [1, 1, 1, 1, 1, 0, 0, 0, 0] : 9 0.9702307544204734\n",
      "----------------------\n",
      "S ‘s code is: [1, 1, 1, 1, 1, 0, 0, 1, 0] : 9 0.973550662420515\n",
      "----------------------\n",
      "H ‘s code is: [1, 1, 1, 1, 1, 0, 1, 0, 0] : 9 0.976655921196416\n",
      "----------------------\n",
      "A ‘s code is: [1, 1, 1, 1, 1, 0, 1, 0, 1, 0] : 10 0.9792408182168245\n",
      "----------------------\n",
      "L ‘s code is: [1, 1, 1, 1, 1, 0, 1, 1, 0, 0] : 10 0.981192174799921\n",
      "----------------------\n",
      "W ‘s code is: [1, 1, 1, 1, 1, 0, 1, 1, 1, 0] : 10 0.9830004319002572\n",
      "----------------------\n",
      "R ‘s code is: [1, 1, 1, 1, 1, 1, 0, 0, 0, 0] : 10 0.9845849334457316\n",
      "----------------------\n",
      "B ‘s code is: [1, 1, 1, 1, 1, 1, 0, 0, 0, 1] : 10 0.9859482812451218\n",
      "----------------------\n",
      "N ‘s code is: [1, 1, 1, 1, 1, 1, 0, 0, 1, 0] : 10 0.9872478847294641\n",
      "----------------------\n",
      "M ‘s code is: [1, 1, 1, 1, 1, 1, 0, 1, 0, 0] : 10 0.9885370809786966\n",
      "----------------------\n",
      "J ‘s code is: [1, 1, 1, 1, 1, 1, 0, 1, 0, 1] : 10 0.9898113168274587\n",
      "----------------------\n",
      "D ‘s code is: [1, 1, 1, 1, 1, 1, 0, 1, 1, 0] : 10 0.9910029452475363\n",
      "----------------------\n",
      "C ‘s code is: [1, 1, 1, 1, 1, 1, 0, 1, 1, 1, 1] : 11 0.9921698564842281\n",
      "----------------------\n",
      "Y ‘s code is: [1, 1, 1, 1, 1, 1, 1, 0, 0, 0, 1] : 11 0.9931162644270299\n",
      "----------------------\n",
      "G ‘s code is: [1, 1, 1, 1, 1, 1, 1, 0, 0, 1, 1] : 11 0.9940294993079192\n",
      "----------------------\n",
      "E ‘s code is: [1, 1, 1, 1, 1, 1, 1, 0, 1, 0, 1] : 11 0.9946832037632565\n",
      "----------------------\n",
      "q ‘s code is: [1, 1, 1, 1, 1, 1, 1, 0, 1, 1, 0] : 11 0.9953193460093459\n",
      "----------------------\n",
      "O ‘s code is: [1, 1, 1, 1, 1, 1, 1, 0, 1, 1, 1] : 11 0.9959554882554353\n",
      "----------------------\n",
      "K ‘s code is: [1, 1, 1, 1, 1, 1, 1, 1, 0, 0, 0] : 11 0.9965630106049728\n",
      "----------------------\n",
      "F ‘s code is: [1, 1, 1, 1, 1, 1, 1, 1, 0, 1, 0] : 11 0.9971503689364848\n",
      "----------------------\n",
      "j ‘s code is: [1, 1, 1, 1, 1, 1, 1, 1, 0, 1, 1] : 11 0.9976798370226984\n",
      "----------------------\n",
      "P ‘s code is: [1, 1, 1, 1, 1, 1, 1, 1, 1, 0, 0] : 11 0.9981754815948048\n",
      "----------------------\n",
      "z ‘s code is: [1, 1, 1, 1, 1, 1, 1, 1, 1, 0, 1, 0] : 12 0.9986691748103282\n",
      "----------------------\n",
      "x ‘s code is: [1, 1, 1, 1, 1, 1, 1, 1, 1, 1, 0, 0] : 12 0.9990653001966968\n",
      "----------------------\n",
      "V ‘s code is: [1, 1, 1, 1, 1, 1, 1, 1, 1, 1, 0, 1] : 12 0.999458823774288\n",
      "----------------------\n",
      "U ‘s code is: [1, 1, 1, 1, 1, 1, 1, 1, 1, 1, 1, 1, 0, 0] : 14 0.9997918552978031\n",
      "----------------------\n",
      "Q ‘s code is: [1, 1, 1, 1, 1, 1, 1, 1, 1, 1, 1, 1, 1, 0] : 14 0.9999128394059551\n",
      "----------------------\n",
      "X ‘s code is: [1, 1, 1, 1, 1, 1, 1, 1, 1, 1, 1, 1, 1, 1, 1, 1, 1, 0] : 18 0.9999960972868339\n",
      "----------------------\n"
     ]
    }
   ],
   "source": [
    "cumulative=[]\n",
    "length=[]\n",
    "code=[]\n",
    "for i in range(52):\n",
    "    cumulative+=[Add(Data[0:i])]\n",
    "    length+=[math.ceil(-math.log(Data[i],D))]\n",
    "\n",
    "    code+=[dec2bin(cumulative[i])[0:length[i]]]\n",
    "    print(Lab[i],'‘s code is:',code[i],\":\",length[i],cumulative[i])\n",
    "    print('----------------------')"
   ]
  },
  {
   "cell_type": "code",
   "execution_count": 27,
   "metadata": {},
   "outputs": [],
   "source": [
    "def encodeing(filename,Lab,code):\n",
    "    f = open(filename,'r',encoding='utf-8')\n",
    "    li = []\n",
    "    line = f.readline()\n",
    "    while line:\n",
    "        li.append(line)\n",
    "        line = f.readline()\n",
    "    f.close\n",
    "    Final_code=''\n",
    "    for j in range(len(li)):\n",
    "        for i in range (len(li[j])):\n",
    "            for k in range(len(Lab)):\n",
    "                if Lab[k]==li[j][i]:\n",
    "                    for n in range(len(code[k])):\n",
    "                        Final_code+=str(code[k][n])\n",
    "    return Final_code"
   ]
  },
  {
   "cell_type": "code",
   "execution_count": 28,
   "metadata": {},
   "outputs": [],
   "source": [
    "filename=\"A Game of Thrones.txt\"\n",
    "mycode=encodeing(filename,Lab,code)"
   ]
  },
  {
   "cell_type": "code",
   "execution_count": 31,
   "metadata": {},
   "outputs": [],
   "source": [
    "def decoder(mycode,labs,Codes):\n",
    "    decode=''\n",
    "    code=['' for x in range(52)]\n",
    "    maxc=0;\n",
    "    for i in range (len(Codes)):\n",
    "        for j in range (len(Codes[i])):\n",
    "            code[i]+=str(Codes[i][j])\n",
    "        if maxc<=len(code[i]):\n",
    "            maxc=len(code[i])\n",
    "    #print(code)\n",
    "    ini=0\n",
    "    for i in range (len(mycode)):\n",
    "        #print(ini,i,maxc)\n",
    "        if ini<=i:\n",
    "            for j in range (len(code)):\n",
    "                if i-ini>maxc:\n",
    "                        print('error')\n",
    "                if code[j]==mycode[ini:i]:\n",
    "                    #print(labs[j],':', mycode[ini:i],':',code[j],':',ini,i)\n",
    "                    decode+=labs[j]\n",
    "                    ini=i \n",
    "    return decode"
   ]
  },
  {
   "cell_type": "code",
   "execution_count": 32,
   "metadata": {},
   "outputs": [
    {
     "name": "stdout",
     "output_type": "stream",
     "text": [
      "['000', '0010', '0100', '0101', '01101', '01111', '10000', '10010', '10100', '10101', '10111', '11000', '110011', '110100', '110110', '110111', '111000', '111001', '1110101', '1110111', '1111000', '1111001', '11110101', '11110111', '111110000', '111110010', '111110100', '1111101010', '1111101100', '1111101110', '1111110000', '1111110001', '1111110010', '1111110100', '1111110101', '1111110110', '11111101111', '11111110001', '11111110011', '11111110101', '11111110110', '11111110111', '11111111000', '11111111010', '11111111011', '11111111100', '111111111010', '111111111100', '111111111101', '11111111111100', '11111111111110', '111111111111111110']\n"
     ]
    }
   ],
   "source": [
    "out=decoder(mycode,Lab,code)"
   ]
  },
  {
   "cell_type": "code",
   "execution_count": 33,
   "metadata": {},
   "outputs": [
    {
     "name": "stdout",
     "output_type": "stream",
     "text": [
      "1111111110011111100001111111011111111011001111111011111111110011111111111111001111111010111111011100010000101000111101101110100110001011100010100010001011001001000001110111010111101011111000000111111100110101100100010101110001101001001011011100101011100001011010000001000111100100001100110110101101101111010000011101110010110111010110000000010001101000110111100100110111001100010111010110010111100000001011001001101110100100001011100001000111100101101101111011101111001000011001110101110001011111000101011000011011110100000010110010001000010111001001011011111111101100110100001000111100100001011100100101101110001110011001010101110111011110100001010000000111000011011101000001111100100010100100001111101110010111100011011001011001000011111100000110111100011101010010000010110100111100000101011100011001110101010001111000111111110111101001010001000000100011110010000011111010110000010000001101111001000010100010100110110101011100000101111111001101011001000101011100010111101011011100010000011010100000\n"
     ]
    }
   ],
   "source": [
    "print(mycode[0:1000])"
   ]
  },
  {
   "cell_type": "code",
   "execution_count": 15,
   "metadata": {},
   "outputs": [
    {
     "name": "stdout",
     "output_type": "stream",
     "text": [
      "PROLOGUEWe should start back Gared urged as the woods began to grow dark around themThe wildlings are deadDo the dead frighten you Ser Waymar Royce asked with just the hint of a smileGared did not rise to the bait He was an old man past fifty and he had seen the lordlings come andgo Dead is dead he said We have no business with the deadAre they dead Royce asked softly What proof have weWill saw them Gared said If he says they are dead thats proof enough for meWill had known they would drag him into the quarrel sooner or later He wished it had been laterrather than sooner My mother told me that dead men sing no songs he put inMy wet nurse said the same thing Will Royce replied Never believe anything you hear at awomans tit There are things to be learned even from the dead His voice echoed too loud in thetwilit forestWe have a long ride before us Gared pointed out Eight days maybe nine And night isfallingSer Waymar Royce glanced at the sky with disinterest It does that every day about th\n"
     ]
    }
   ],
   "source": [
    "print(out[0:1000])"
   ]
  },
  {
   "cell_type": "code",
   "execution_count": 16,
   "metadata": {},
   "outputs": [
    {
     "name": "stdout",
     "output_type": "stream",
     "text": [
      "[[0, 0, 0], [0, 0, 1, 0], [0, 1, 0, 0], [0, 1, 0, 1], [0, 1, 1, 0, 1], [0, 1, 1, 1, 1], [1, 0, 0, 0, 0], [1, 0, 0, 1, 0], [1, 0, 1, 0, 0], [1, 0, 1, 0, 1], [1, 0, 1, 1, 1], [1, 1, 0, 0, 0], [1, 1, 0, 0, 1, 1], [1, 1, 0, 1, 0, 0], [1, 1, 0, 1, 1, 0], [1, 1, 0, 1, 1, 1], [1, 1, 1, 0, 0, 0], [1, 1, 1, 0, 0, 1], [1, 1, 1, 0, 1, 0, 1], [1, 1, 1, 0, 1, 1, 1], [1, 1, 1, 1, 0, 0, 0], [1, 1, 1, 1, 0, 0, 1], [1, 1, 1, 1, 0, 1, 0, 1], [1, 1, 1, 1, 0, 1, 1, 1], [1, 1, 1, 1, 1, 0, 0, 0, 0], [1, 1, 1, 1, 1, 0, 0, 1, 0], [1, 1, 1, 1, 1, 0, 1, 0, 0], [1, 1, 1, 1, 1, 0, 1, 0, 1, 0], [1, 1, 1, 1, 1, 0, 1, 1, 0, 0], [1, 1, 1, 1, 1, 0, 1, 1, 1, 0], [1, 1, 1, 1, 1, 1, 0, 0, 0, 0], [1, 1, 1, 1, 1, 1, 0, 0, 0, 1], [1, 1, 1, 1, 1, 1, 0, 0, 1, 0], [1, 1, 1, 1, 1, 1, 0, 1, 0, 0], [1, 1, 1, 1, 1, 1, 0, 1, 0, 1], [1, 1, 1, 1, 1, 1, 0, 1, 1, 0], [1, 1, 1, 1, 1, 1, 0, 1, 1, 1, 1], [1, 1, 1, 1, 1, 1, 1, 0, 0, 0, 1], [1, 1, 1, 1, 1, 1, 1, 0, 0, 1, 1], [1, 1, 1, 1, 1, 1, 1, 0, 1, 0, 1], [1, 1, 1, 1, 1, 1, 1, 0, 1, 1, 0], [1, 1, 1, 1, 1, 1, 1, 0, 1, 1, 1], [1, 1, 1, 1, 1, 1, 1, 1, 0, 0, 0], [1, 1, 1, 1, 1, 1, 1, 1, 0, 1, 0], [1, 1, 1, 1, 1, 1, 1, 1, 0, 1, 1], [1, 1, 1, 1, 1, 1, 1, 1, 1, 0, 0], [1, 1, 1, 1, 1, 1, 1, 1, 1, 0, 1, 0], [1, 1, 1, 1, 1, 1, 1, 1, 1, 1, 0, 0], [1, 1, 1, 1, 1, 1, 1, 1, 1, 1, 0, 1], [1, 1, 1, 1, 1, 1, 1, 1, 1, 1, 1, 1, 0, 0], [1, 1, 1, 1, 1, 1, 1, 1, 1, 1, 1, 1, 1, 0], [1, 1, 1, 1, 1, 1, 1, 1, 1, 1, 1, 1, 1, 1, 1, 1, 1, 0]]\n"
     ]
    }
   ],
   "source": [
    "print(code)\n",
    "Length=[3,4,4,4,5,5,5,5,5,5,5,5,6,6,6,6,6,6,7,7,7,7,8,8,9,9,9,10,10,10,10,10,10,10,10,10,11,11,11,11,11,11,11,11,11,11,12,12,12,14,14,18]"
   ]
  },
  {
   "cell_type": "code",
   "execution_count": 17,
   "metadata": {},
   "outputs": [
    {
     "data": {
      "text/plain": [
       "[' ',\n",
       " 'e',\n",
       " 't',\n",
       " 'a',\n",
       " 'o',\n",
       " 'h',\n",
       " 'n',\n",
       " 'r',\n",
       " 's',\n",
       " 'i',\n",
       " 'd',\n",
       " 'l',\n",
       " 'w',\n",
       " 'u',\n",
       " 'm',\n",
       " 'g',\n",
       " 'y',\n",
       " 'f',\n",
       " 'c',\n",
       " 'b',\n",
       " 'k',\n",
       " 'p',\n",
       " 'v',\n",
       " 'T',\n",
       " 'I',\n",
       " 'S',\n",
       " 'H',\n",
       " 'A',\n",
       " 'L',\n",
       " 'W',\n",
       " 'R',\n",
       " 'B',\n",
       " 'N',\n",
       " 'M',\n",
       " 'J',\n",
       " 'D',\n",
       " 'C',\n",
       " 'Y',\n",
       " 'G',\n",
       " 'E',\n",
       " 'q',\n",
       " 'O',\n",
       " 'K',\n",
       " 'F',\n",
       " 'j',\n",
       " 'P',\n",
       " 'z',\n",
       " 'x',\n",
       " 'V',\n",
       " 'U',\n",
       " 'Q',\n",
       " 'X']"
      ]
     },
     "execution_count": 17,
     "metadata": {},
     "output_type": "execute_result"
    }
   ],
   "source": [
    "Lab"
   ]
  },
  {
   "cell_type": "code",
   "execution_count": 28,
   "metadata": {},
   "outputs": [],
   "source": [
    "k=0\n",
    "for i in range(51):\n",
    "    k=k+Data[i]*Length[i]\n"
   ]
  },
  {
   "cell_type": "code",
   "execution_count": 30,
   "metadata": {},
   "outputs": [
    {
     "data": {
      "text/plain": [
       "4.778766248295817"
      ]
     },
     "execution_count": 30,
     "metadata": {},
     "output_type": "execute_result"
    }
   ],
   "source": [
    "k"
   ]
  },
  {
   "cell_type": "code",
   "execution_count": 31,
   "metadata": {},
   "outputs": [
    {
     "data": {
      "text/plain": [
       "[0.18340475298427467,\n",
       " 0.10234214826147138,\n",
       " 0.06413978998199549,\n",
       " 0.06354657758073412,\n",
       " 0.0612660921872886,\n",
       " 0.055628623018722616,\n",
       " 0.053180971411325155,\n",
       " 0.05127449602963981,\n",
       " 0.050850401198913486,\n",
       " 0.04493518894335342,\n",
       " 0.042972774672952636,\n",
       " 0.03437704892441225,\n",
       " 0.020122389084891817,\n",
       " 0.01983163695401043,\n",
       " 0.018178837928127634,\n",
       " 0.017216819132661026,\n",
       " 0.0164362764994224,\n",
       " 0.016298380634216906,\n",
       " 0.014149937036227585,\n",
       " 0.012189474122409899,\n",
       " 0.009133649713280673,\n",
       " 0.009048440475818788,\n",
       " 0.005742191971858836,\n",
       " 0.003963855672463497,\n",
       " 0.003319908000041629,\n",
       " 0.0031052587759010063,\n",
       " 0.002584897020408588,\n",
       " 0.0019513565830965687,\n",
       " 0.0018082571003361536,\n",
       " 0.0015845015454744138,\n",
       " 0.0013633477993901361,\n",
       " 0.0012996034843423148,\n",
       " 0.0012891962492324663,\n",
       " 0.0012742358487620594,\n",
       " 0.001191628420077638,\n",
       " 0.001166911236691748,\n",
       " 0.0009464079428018359,\n",
       " 0.0009132348808891941,\n",
       " 0.0006537044553373506,\n",
       " 0.0006361422460894814,\n",
       " 0.0006361422460894814,\n",
       " 0.0006075223495373984,\n",
       " 0.0005873583315120672,\n",
       " 0.0005294680862135356,\n",
       " 0.0004956445721065284,\n",
       " 0.0004936932155234319,\n",
       " 0.00039612538636860344,\n",
       " 0.00039352357759114137,\n",
       " 0.00033303152351514775,\n",
       " 0.00012098410815198726,\n",
       " 8.325788087878694e-05,\n",
       " 3.9027131661931375e-06]"
      ]
     },
     "execution_count": 31,
     "metadata": {},
     "output_type": "execute_result"
    }
   ],
   "source": [
    "Data"
   ]
  },
  {
   "cell_type": "code",
   "execution_count": null,
   "metadata": {},
   "outputs": [],
   "source": []
  }
 ],
 "metadata": {
  "kernelspec": {
   "display_name": "Musk_envs",
   "language": "python",
   "name": "musk_envs"
  },
  "language_info": {
   "codemirror_mode": {
    "name": "ipython",
    "version": 3
   },
   "file_extension": ".py",
   "mimetype": "text/x-python",
   "name": "python",
   "nbconvert_exporter": "python",
   "pygments_lexer": "ipython3",
   "version": "3.6.7"
  }
 },
 "nbformat": 4,
 "nbformat_minor": 2
}
